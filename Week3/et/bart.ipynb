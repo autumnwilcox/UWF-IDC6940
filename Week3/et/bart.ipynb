{
 "cells": [
  {
   "cell_type": "code",
   "id": "initial_id",
   "metadata": {
    "collapsed": true,
    "ExecuteTime": {
     "end_time": "2025-09-21T16:38:30.761227Z",
     "start_time": "2025-09-21T16:38:28.848094Z"
    }
   },
   "source": [
    "import numpy as np\n",
    "import pandas as pd\n",
    "import matplotlib.pyplot as plt\n",
    "from bart_survival import surv_bart as sb"
   ],
   "outputs": [],
   "execution_count": 1
  },
  {
   "metadata": {},
   "cell_type": "markdown",
   "source": "### Generate Synthetic Healthcare Data",
   "id": "1ba645617f23d4df"
  },
  {
   "metadata": {
    "ExecuteTime": {
     "end_time": "2025-09-21T16:39:02.134880Z",
     "start_time": "2025-09-21T16:39:02.126335Z"
    }
   },
   "cell_type": "code",
   "source": [
    "np.random.seed(42)\n",
    "n = 500\n",
    "\n",
    "# Covariates\n",
    "age = np.random.normal(65, 10, n).clip(18, 100).astype(int)\n",
    "gender = np.random.binomial(1, 0.5, n)\n",
    "treatment = np.random.binomial(1, 0.4, n)\n",
    "comorbidity = np.random.poisson(2, n).clip(0, 10)\n",
    "\n",
    "# Generate survival times (exponential hazard with covariates)\n",
    "base_hazard = 0.01  # daily hazard\n",
    "log_hazard = (age - 65) * 0.02 + gender * 0.1 + (1 - treatment) * 0.3 + comorbidity * 0.05\n",
    "daily_hazards = base_hazard * np.exp(log_hazard)\n",
    "times = np.random.exponential(1 / daily_hazards)\n",
    "\n",
    "# Censoring: 30% censored\n",
    "censor_prob = 0.3\n",
    "status = np.random.binomial(1, 1 - censor_prob, n)\n",
    "\n",
    "# Round times to integers\n",
    "times = np.round(times).astype(int)\n",
    "\n",
    "# Create DataFrame\n",
    "data = pd.DataFrame({\n",
    "    'time': times,\n",
    "    'status': status,\n",
    "    'age': age,\n",
    "    'gender': gender,\n",
    "    'treatment': treatment,\n",
    "    'comorbidity': comorbidity\n",
    "})\n",
    "\n",
    "print(data.head())\n",
    "print(f\"Dataset shape: {data.shape}\")"
   ],
   "id": "f4628030271f16bb",
   "outputs": [
    {
     "name": "stdout",
     "output_type": "stream",
     "text": [
      "   time  status  age  gender  treatment  comorbidity\n",
      "0    22       1   69       1          1            2\n",
      "1    39       1   63       1          0            5\n",
      "2    65       1   71       0          1            1\n",
      "3    16       0   80       1          0            6\n",
      "4    31       1   62       1          0            0\n",
      "Dataset shape: (500, 6)\n"
     ]
    }
   ],
   "execution_count": 2
  },
  {
   "metadata": {},
   "cell_type": "markdown",
   "source": [
    "### Data Preparation\n",
    "Transform the data into the 'augmented' format required by BART-Survival. We use a time scale of 30 days (monthly discretization) for discrete-time analysis."
   ],
   "id": "8adf775e63d9cee3"
  },
  {
   "metadata": {
    "ExecuteTime": {
     "end_time": "2025-09-21T16:40:03.568136Z",
     "start_time": "2025-09-21T16:40:03.562765Z"
    }
   },
   "cell_type": "code",
   "source": [
    "# Prepare training data\n",
    "trn = sb.get_surv_pre_train(\n",
    "    y_time=data['time'].values,\n",
    "    y_status=data['status'].values,\n",
    "    x=data[['age', 'gender', 'treatment', 'comorbidity']].values,\n",
    "    time_scale=30\n",
    ")\n",
    "\n",
    "# Prepare test data (using the same data for demonstration; in practice, use hold-out)\n",
    "post_test = sb.get_posterior_test(\n",
    "    y_time=data['time'].values,\n",
    "    y_status=data['status'].values,\n",
    "    x=data[['age', 'gender', 'treatment', 'comorbidity']].values,\n",
    "    time_scale=30\n",
    ")\n",
    "\n",
    "print(f\"Training data shape: X={trn['x'].shape}, y={trn['y'].shape}\")"
   ],
   "id": "89cd6c64b82e1a9a",
   "outputs": [
    {
     "name": "stdout",
     "output_type": "stream",
     "text": [
      "Training data shape: X=(1962, 5), y=(1962, 1)\n"
     ]
    }
   ],
   "execution_count": 3
  },
  {
   "metadata": {},
   "cell_type": "markdown",
   "source": [
    "### Model Configuration\n",
    "Define the BART model with appropriate split rules for continuous and categorical variables."
   ],
   "id": "e7df69cb8f063cc3"
  },
  {
   "metadata": {
    "ExecuteTime": {
     "end_time": "2025-09-21T16:42:42.040199Z",
     "start_time": "2025-09-21T16:42:42.038551Z"
    }
   },
   "cell_type": "code",
   "source": [
    "model_dict = {\n",
    "    \"trees\": 50,\n",
    "    \"split_rules\": [\n",
    "        \"pmb.ContinuousSplitRule()\",  # time (implicit)\n",
    "        \"pmb.ContinuousSplitRule()\",  # age\n",
    "        \"pmb.OneHotSplitRule()\",      # gender\n",
    "        \"pmb.OneHotSplitRule()\",      # treatment\n",
    "        \"pmb.ContinuousSplitRule()\",  # comorbidity\n",
    "    ]\n",
    "}"
   ],
   "id": "e2c3610281687fcf",
   "outputs": [],
   "execution_count": 4
  },
  {
   "metadata": {},
   "cell_type": "markdown",
   "source": [
    "### Sampler Configuration\n",
    "Set MCMC sampling parameters."
   ],
   "id": "ce3b6c2021c1ece3"
  },
  {
   "metadata": {
    "ExecuteTime": {
     "end_time": "2025-09-21T16:43:34.735723Z",
     "start_time": "2025-09-21T16:43:34.733990Z"
    }
   },
   "cell_type": "code",
   "source": [
    "sampler_dict = {\n",
    "    \"draws\": 200,\n",
    "    \"tune\": 200,\n",
    "    \"cores\": 4,  # Adjust based on your machine\n",
    "    \"chains\": 4,\n",
    "    \"compute_convergence_checks\": False\n",
    "}"
   ],
   "id": "5f6cd4641138f184",
   "outputs": [],
   "execution_count": 5
  },
  {
   "metadata": {},
   "cell_type": "markdown",
   "source": "### Instantiate and Fit the Model",
   "id": "ca684d3aede7007c"
  },
  {
   "metadata": {
    "ExecuteTime": {
     "end_time": "2025-09-21T16:44:20.864305Z",
     "start_time": "2025-09-21T16:44:10.540139Z"
    }
   },
   "cell_type": "code",
   "source": [
    "# Instantiate the BART Survival Model\n",
    "BSM = sb.BartSurvModel(model_config=model_dict, sampler_config=sampler_dict)\n",
    "\n",
    "# Fit the model\n",
    "BSM.fit(\n",
    "    y=trn[\"y\"],\n",
    "    X=trn[\"x\"],\n",
    "    weights=trn[\"w\"],\n",
    "    coords=trn[\"coord\"],\n",
    "    random_seed=42\n",
    ")\n",
    "\n",
    "print(\"Model fitted successfully!\")"
   ],
   "id": "a1334b38bce9f6e5",
   "outputs": [
    {
     "name": "stderr",
     "output_type": "stream",
     "text": [
      "Multiprocess sampling (4 chains in 4 jobs)\n",
      "PGBART: [f]\n"
     ]
    },
    {
     "data": {
      "text/plain": [
       "<IPython.core.display.HTML object>"
      ],
      "text/html": [
       "\n",
       "<style>\n",
       "    /* Turns off some styling */\n",
       "    progress {\n",
       "        /* gets rid of default border in Firefox and Opera. */\n",
       "        border: none;\n",
       "        /* Needs to be in here for Safari polyfill so background images work as expected. */\n",
       "        background-size: auto;\n",
       "    }\n",
       "    progress:not([value]), progress:not([value])::-webkit-progress-bar {\n",
       "        background: repeating-linear-gradient(45deg, #7e7e7e, #7e7e7e 10px, #5c5c5c 10px, #5c5c5c 20px);\n",
       "    }\n",
       "    .progress-bar-interrupted, .progress-bar-interrupted::-webkit-progress-bar {\n",
       "        background: #F44336;\n",
       "    }\n",
       "</style>\n"
      ]
     },
     "metadata": {},
     "output_type": "display_data"
    },
    {
     "data": {
      "text/plain": [
       "<IPython.core.display.HTML object>"
      ],
      "text/html": [
       "\n",
       "    <div>\n",
       "      <progress value='1600' class='' max='1600' style='width:300px; height:20px; vertical-align: middle;'></progress>\n",
       "      100.00% [1600/1600 00:07&lt;00:00 Sampling 4 chains, 0 divergences]\n",
       "    </div>\n",
       "    "
      ]
     },
     "metadata": {},
     "output_type": "display_data"
    },
    {
     "name": "stderr",
     "output_type": "stream",
     "text": [
      "Sampling 4 chains for 200 tune and 200 draw iterations (800 + 800 draws total) took 7 seconds.\n"
     ]
    },
    {
     "name": "stdout",
     "output_type": "stream",
     "text": [
      "Model fitted successfully!\n"
     ]
    }
   ],
   "execution_count": 6
  },
  {
   "metadata": {},
   "cell_type": "markdown",
   "source": [
    "### Posterior Predictive Sampling\n",
    "Generate posterior predictive samples for evaluation."
   ],
   "id": "81ee54d520006b95"
  },
  {
   "metadata": {
    "ExecuteTime": {
     "end_time": "2025-09-21T16:51:36.149154Z",
     "start_time": "2025-09-21T16:51:31.516775Z"
    }
   },
   "cell_type": "code",
   "source": [
    "# Sample posterior predictive\n",
    "post1 = BSM.sample_posterior_predictive(X_pred=post_test[\"post_x\"], coords=post_test[\"coords\"])\n",
    "\n",
    "# Convert to survival probabilities\n",
    "sv_prob_dict = sb.get_sv_prob(post1)\n",
    "sv_prob = sv_prob_dict['prob']\n",
    "\n",
    "print(f\"Survival probabilities shape: {sv_prob.shape}\")"
   ],
   "id": "82e853bf40aa9b4d",
   "outputs": [
    {
     "name": "stderr",
     "output_type": "stream",
     "text": [
      "Sampling: [f]\n"
     ]
    },
    {
     "data": {
      "text/plain": [
       "<IPython.core.display.HTML object>"
      ],
      "text/html": [
       "\n",
       "<style>\n",
       "    /* Turns off some styling */\n",
       "    progress {\n",
       "        /* gets rid of default border in Firefox and Opera. */\n",
       "        border: none;\n",
       "        /* Needs to be in here for Safari polyfill so background images work as expected. */\n",
       "        background-size: auto;\n",
       "    }\n",
       "    progress:not([value]), progress:not([value])::-webkit-progress-bar {\n",
       "        background: repeating-linear-gradient(45deg, #7e7e7e, #7e7e7e 10px, #5c5c5c 10px, #5c5c5c 20px);\n",
       "    }\n",
       "    .progress-bar-interrupted, .progress-bar-interrupted::-webkit-progress-bar {\n",
       "        background: #F44336;\n",
       "    }\n",
       "</style>\n"
      ]
     },
     "metadata": {},
     "output_type": "display_data"
    },
    {
     "data": {
      "text/plain": [
       "<IPython.core.display.HTML object>"
      ],
      "text/html": [
       "\n",
       "    <div>\n",
       "      <progress value='800' class='' max='800' style='width:300px; height:20px; vertical-align: middle;'></progress>\n",
       "      100.00% [800/800 00:04&lt;00:00]\n",
       "    </div>\n",
       "    "
      ]
     },
     "metadata": {},
     "output_type": "display_data"
    },
    {
     "name": "stdout",
     "output_type": "stream",
     "text": [
      "Survival probabilities shape: (800, 500, 18)\n"
     ]
    }
   ],
   "execution_count": 15
  },
  {
   "metadata": {
    "ExecuteTime": {
     "end_time": "2025-09-21T16:51:41.800430Z",
     "start_time": "2025-09-21T16:51:41.796878Z"
    }
   },
   "cell_type": "code",
   "source": "sv_prob",
   "id": "effe81899604cc0b",
   "outputs": [
    {
     "data": {
      "text/plain": [
       "array([[[0.00513324, 0.20687895, 0.20722821, ..., 0.15195363,\n",
       "         0.15195363, 0.15195363],\n",
       "        [0.01140253, 0.29572022, 0.28864166, ..., 0.17263962,\n",
       "         0.17263962, 0.17263962],\n",
       "        [0.00209944, 0.17846559, 0.20790345, ..., 0.16852685,\n",
       "         0.16852685, 0.16852685],\n",
       "        ...,\n",
       "        [0.00373991, 0.17065463, 0.18129029, ..., 0.13083071,\n",
       "         0.13083071, 0.13083071],\n",
       "        [0.00783329, 0.28512304, 0.3777547 , ..., 0.23231145,\n",
       "         0.23231145, 0.23231145],\n",
       "        [0.01559275, 0.30925499, 0.39926355, ..., 0.21950226,\n",
       "         0.21950226, 0.21950226]],\n",
       "\n",
       "       [[0.00624557, 0.26447753, 0.24932321, ..., 0.24715621,\n",
       "         0.24715621, 0.24715621],\n",
       "        [0.00734746, 0.19125229, 0.27005081, ..., 0.31234703,\n",
       "         0.31234703, 0.31234703],\n",
       "        [0.00446586, 0.23843906, 0.16948785, ..., 0.10658675,\n",
       "         0.10658675, 0.10658675],\n",
       "        ...,\n",
       "        [0.0046187 , 0.23123506, 0.17668001, ..., 0.17491048,\n",
       "         0.17491048, 0.17491048],\n",
       "        [0.01078834, 0.36277864, 0.44355491, ..., 0.32652085,\n",
       "         0.32652085, 0.32652085],\n",
       "        [0.00562529, 0.2666127 , 0.27752705, ..., 0.20233379,\n",
       "         0.20233379, 0.20233379]],\n",
       "\n",
       "       [[0.00646888, 0.21560943, 0.19728996, ..., 0.17772659,\n",
       "         0.17772659, 0.17772659],\n",
       "        [0.012126  , 0.37728378, 0.30431299, ..., 0.19539858,\n",
       "         0.19539858, 0.19539858],\n",
       "        [0.00292401, 0.13973027, 0.13794432, ..., 0.17050203,\n",
       "         0.17050203, 0.17050203],\n",
       "        ...,\n",
       "        [0.00484954, 0.12687001, 0.12519927, ..., 0.13511007,\n",
       "         0.13511007, 0.13511007],\n",
       "        [0.00421963, 0.2964228 , 0.27256128, ..., 0.20736481,\n",
       "         0.20736481, 0.20736481],\n",
       "        [0.012814  , 0.21420638, 0.25113096, ..., 0.19697043,\n",
       "         0.19697043, 0.19697043]],\n",
       "\n",
       "       ...,\n",
       "\n",
       "       [[0.00619996, 0.21092711, 0.22416971, ..., 0.12559633,\n",
       "         0.12559633, 0.14442513],\n",
       "        [0.00602688, 0.32267017, 0.33449137, ..., 0.24772357,\n",
       "         0.24772357, 0.27596831],\n",
       "        [0.00448482, 0.19909173, 0.17516375, ..., 0.0864475 ,\n",
       "         0.0864475 , 0.10095121],\n",
       "        ...,\n",
       "        [0.00249947, 0.16416817, 0.17555247, ..., 0.10667932,\n",
       "         0.10667932, 0.12351919],\n",
       "        [0.00409684, 0.32676925, 0.31967305, ..., 0.23402942,\n",
       "         0.23402942, 0.26146646],\n",
       "        [0.00389099, 0.23135131, 0.26760954, ..., 0.14564765,\n",
       "         0.14564765, 0.1664038 ]],\n",
       "\n",
       "       [[0.00546192, 0.14023209, 0.10445137, ..., 0.16679924,\n",
       "         0.16679924, 0.16679924],\n",
       "        [0.06185883, 0.3309998 , 0.30331301, ..., 0.38407847,\n",
       "         0.38407847, 0.38407847],\n",
       "        [0.00420911, 0.18917425, 0.13680275, ..., 0.21663961,\n",
       "         0.21663961, 0.21663961],\n",
       "        ...,\n",
       "        [0.00747566, 0.14634053, 0.10942919, ..., 0.17364157,\n",
       "         0.17364157, 0.17364157],\n",
       "        [0.01121782, 0.23824521, 0.20433319, ..., 0.28300651,\n",
       "         0.28300651, 0.28300651],\n",
       "        [0.01268148, 0.19951522, 0.21354476, ..., 0.25707058,\n",
       "         0.25707058, 0.25707058]],\n",
       "\n",
       "       [[0.01389472, 0.28338199, 0.27007354, ..., 0.14470496,\n",
       "         0.13896811, 0.13896811],\n",
       "        [0.0133001 , 0.35933012, 0.29552981, ..., 0.19406615,\n",
       "         0.19406615, 0.19406615],\n",
       "        [0.01018494, 0.20195265, 0.19094107, ..., 0.10859182,\n",
       "         0.10390652, 0.10390652],\n",
       "        ...,\n",
       "        [0.00547419, 0.1795924 , 0.1693628 , ..., 0.080232  ,\n",
       "         0.080232  , 0.080232  ],\n",
       "        [0.00711999, 0.22976005, 0.2733544 , ..., 0.23413978,\n",
       "         0.23413978, 0.23413978],\n",
       "        [0.0056332 , 0.23555715, 0.2799924 , ..., 0.16690859,\n",
       "         0.16690859, 0.16690859]]])"
      ]
     },
     "execution_count": 16,
     "metadata": {},
     "output_type": "execute_result"
    }
   ],
   "execution_count": 16
  },
  {
   "metadata": {},
   "cell_type": "markdown",
   "source": [
    "### Visualization: Average Survival Curve\n",
    "Plot the mean survival probability over time."
   ],
   "id": "edb392d3a55454ee"
  },
  {
   "metadata": {
    "ExecuteTime": {
     "end_time": "2025-09-21T16:51:45.786317Z",
     "start_time": "2025-09-21T16:51:45.672232Z"
    }
   },
   "cell_type": "code",
   "source": [
    "# Average survival curve\n",
    "mean_sv = np.mean(sv_prob, axis=(0, 1))  # Average over samples and individuals\n",
    "\n",
    "time_points = np.arange(len(mean_sv)) * 30  # Back to days\n",
    "\n",
    "plt.figure(figsize=(10, 6))\n",
    "plt.plot(time_points, mean_sv)\n",
    "plt.xlabel('Time (days)')\n",
    "plt.ylabel('Survival Probability')\n",
    "plt.title('Estimated Survival Curve (Healthcare Example)')\n",
    "plt.grid(True)\n",
    "plt.show()"
   ],
   "id": "5acdcde5957e764b",
   "outputs": [
    {
     "data": {
      "text/plain": [
       "<Figure size 1000x600 with 1 Axes>"
      ],
      "image/png": "[encoded data removed]"
     },
     "metadata": {},
     "output_type": "display_data"
    }
   ],
   "execution_count": 17
  },
  {
   "metadata": {},
   "cell_type": "markdown",
   "source": [
    "### Interpretation\n",
    "This example demonstrates how BART-Survival can model complex, non-linear relationships in healthcare survival data without assuming proportional hazards. The synthetic data shows how covariates like age and treatment influence survival.\n",
    "\n"
   ],
   "id": "6d9452112089e99f"
  }
 ],
 "metadata": {
  "kernelspec": {
   "display_name": "Python 3",
   "language": "python",
   "name": "python3"
  },
  "language_info": {
   "codemirror_mode": {
    "name": "ipython",
    "version": 2
   },
   "file_extension": ".py",
   "mimetype": "text/x-python",
   "name": "python",
   "nbconvert_exporter": "python",
   "pygments_lexer": "ipython2",
   "version": "2.7.6"
  }
 },
 "nbformat": 4,
 "nbformat_minor": 5
}
